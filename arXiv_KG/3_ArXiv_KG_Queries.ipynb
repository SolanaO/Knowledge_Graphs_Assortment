{
  "nbformat": 4,
  "nbformat_minor": 0,
  "metadata": {
    "colab": {
      "provenance": [],
      "mount_file_id": "1v8MkZ1Y8me6EMa4wQl1MzRagnWOP-Qe2",
      "authorship_tag": "ABX9TyNxtVtCdAoB0PJ7ghjN30E8",
      "include_colab_link": true
    },
    "kernelspec": {
      "name": "python3",
      "display_name": "Python 3"
    },
    "language_info": {
      "name": "python"
    }
  },
  "cells": [
    {
      "cell_type": "markdown",
      "metadata": {
        "id": "view-in-github",
        "colab_type": "text"
      },
      "source": [
        "<a href=\"https://colab.research.google.com/github/SolanaO/Knowledge_Graphs_Assortment/blob/master/arXiv_KG/3_ArXiv_KG_Queries.ipynb\" target=\"_parent\"><img src=\"https://colab.research.google.com/assets/colab-badge.svg\" alt=\"Open In Colab\"/></a>"
      ]
    },
    {
      "cell_type": "markdown",
      "source": [
        "# Queries on ArXiv Knowledge Graph"
      ],
      "metadata": {
        "id": "0WgHZU2NyRVp"
      }
    },
    {
      "cell_type": "markdown",
      "source": [
        "\n",
        "## Description"
      ],
      "metadata": {
        "id": "NLcdeGlY07w_"
      }
    },
    {
      "cell_type": "markdown",
      "source": [
        "In this notebook, we query the KG built in notebook 2. This notebook does not require any special settings, as we will only connect to an existing  Neo4j instance.\n"
      ],
      "metadata": {
        "id": "0X1B21j9bgqw"
      }
    },
    {
      "cell_type": "markdown",
      "source": [
        "## Colab Setup"
      ],
      "metadata": {
        "id": "n9p8sd7oTlWW"
      }
    },
    {
      "cell_type": "code",
      "source": [
        "# Load and mount the drive helper\n",
        "from google.colab import drive\n",
        "\n",
        "# This will prompt for authorization\n",
        "drive.mount('/content/drive')\n",
        "\n",
        "# Set the working directory\n",
        "%cd '/content/drive/MyDrive/arxivKG/'"
      ],
      "metadata": {
        "colab": {
          "base_uri": "https://localhost:8080/"
        },
        "id": "lVHyW62OTa5P",
        "outputId": "aff3753a-ac00-47ca-a20f-a5f7941b20a4"
      },
      "execution_count": null,
      "outputs": [
        {
          "output_type": "stream",
          "name": "stdout",
          "text": [
            "Drive already mounted at /content/drive; to attempt to forcibly remount, call drive.mount(\"/content/drive\", force_remount=True).\n",
            "/content/drive/MyDrive/arxivKG\n"
          ]
        }
      ]
    },
    {
      "cell_type": "markdown",
      "source": [
        "## Installs & Imports for KG Querying"
      ],
      "metadata": {
        "id": "8rusCXr9pV0H"
      }
    },
    {
      "cell_type": "code",
      "source": [
        "!pip install neo4j"
      ],
      "metadata": {
        "id": "e_8k1uxhNHMK",
        "colab": {
          "base_uri": "https://localhost:8080/"
        },
        "outputId": "73ab4c2a-c030-4537-ee5a-3ac7e2d28d4a"
      },
      "execution_count": null,
      "outputs": [
        {
          "output_type": "stream",
          "name": "stdout",
          "text": [
            "Collecting neo4j\n",
            "  Downloading neo4j-5.16.0.tar.gz (197 kB)\n",
            "\u001b[?25l     \u001b[90m━━━━━━━━━━━━━━━━━━━━━━━━━━━━━━━━━━━━━━━━\u001b[0m \u001b[32m0.0/197.8 kB\u001b[0m \u001b[31m?\u001b[0m eta \u001b[36m-:--:--\u001b[0m\r\u001b[2K     \u001b[91m━━━━━━━━━━━━━━━━━━━━━━\u001b[0m\u001b[91m╸\u001b[0m\u001b[90m━━━━━━━━━━━━━━━━━\u001b[0m \u001b[32m112.6/197.8 kB\u001b[0m \u001b[31m3.1 MB/s\u001b[0m eta \u001b[36m0:00:01\u001b[0m\r\u001b[2K     \u001b[90m━━━━━━━━━━━━━━━━━━━━━━━━━━━━━━━━━━━━━━━━\u001b[0m \u001b[32m197.8/197.8 kB\u001b[0m \u001b[31m3.8 MB/s\u001b[0m eta \u001b[36m0:00:00\u001b[0m\n",
            "\u001b[?25h  Installing build dependencies ... \u001b[?25l\u001b[?25hdone\n",
            "  Getting requirements to build wheel ... \u001b[?25l\u001b[?25hdone\n",
            "  Installing backend dependencies ... \u001b[?25l\u001b[?25hdone\n",
            "  Preparing metadata (pyproject.toml) ... \u001b[?25l\u001b[?25hdone\n",
            "Requirement already satisfied: pytz in /usr/local/lib/python3.10/dist-packages (from neo4j) (2023.3.post1)\n",
            "Building wheels for collected packages: neo4j\n",
            "  Building wheel for neo4j (pyproject.toml) ... \u001b[?25l\u001b[?25hdone\n",
            "  Created wheel for neo4j: filename=neo4j-5.16.0-py3-none-any.whl size=273811 sha256=7631d10efbb3508f70417a3db640b65db5d76d2ea01f09693af1894f46b0a7a6\n",
            "  Stored in directory: /root/.cache/pip/wheels/20/a0/f6/87a1ec9636c915fe2d6c6e859fd55a6231dd9bc95a1d5394b1\n",
            "Successfully built neo4j\n",
            "Installing collected packages: neo4j\n",
            "Successfully installed neo4j-5.16.0\n"
          ]
        }
      ]
    },
    {
      "cell_type": "code",
      "source": [
        "import pandas as pd\n",
        "import numpy as np\n",
        "import json\n",
        "from datetime import datetime\n",
        "import hashlib\n",
        "from neo4j import time\n"
      ],
      "metadata": {
        "id": "OLfYPXJoNrnA"
      },
      "execution_count": null,
      "outputs": []
    },
    {
      "cell_type": "markdown",
      "source": [
        "## Establish Neo 4j Connection"
      ],
      "metadata": {
        "id": "ezZyLhiqg2qv"
      }
    },
    {
      "cell_type": "code",
      "source": [
        "# Import the Neo4j connector module\n",
        "from utils.neo4j_conn import *"
      ],
      "metadata": {
        "id": "nqKgoZ-_GzFU"
      },
      "execution_count": null,
      "outputs": []
    },
    {
      "cell_type": "code",
      "source": [
        "# Create an Neo4j AuraDB free instance and collect the credentials\n",
        "URI = 'neo4j+s://xxxxxxxx.databases.neo4j.io'\n",
        "USER = 'neo4j'\n",
        "PWD = 'your_password_here'\n",
        "\n",
        "# Initialize the Neo4j connector\n",
        "graph=Neo4jGraph(url=URI, username=USER, password=PWD)"
      ],
      "metadata": {
        "id": "O29QgANIG10y"
      },
      "execution_count": null,
      "outputs": []
    },
    {
      "cell_type": "code",
      "source": [
        "# Check the connection\n",
        "graph.query(\"MATCH (n) RETURN count(n)\")"
      ],
      "metadata": {
        "colab": {
          "base_uri": "https://localhost:8080/"
        },
        "id": "amEi9drqHHsB",
        "outputId": "dfc5ceaa-77a4-48db-a47f-3917a8a5b832"
      },
      "execution_count": null,
      "outputs": [
        {
          "output_type": "execute_result",
          "data": {
            "text/plain": [
              "[{'count(n)': 38650}]"
            ]
          },
          "metadata": {},
          "execution_count": 7
        }
      ]
    },
    {
      "cell_type": "markdown",
      "source": [
        "## Sample Queries"
      ],
      "metadata": {
        "id": "HUe_jes632iO"
      }
    },
    {
      "cell_type": "code",
      "source": [
        "# Query to extract the graph schema\n",
        "node_properties_query = \"\"\"\n",
        "CALL apoc.meta.data()\n",
        "YIELD label, other, elementType, type, property\n",
        "WHERE NOT type = \"RELATIONSHIP\" AND elementType = \"node\"\n",
        "WITH label AS nodeLabels, collect(property) AS properties\n",
        "RETURN {labels: nodeLabels, properties: properties} AS output\n",
        "\n",
        "\"\"\"\n",
        "node_props = graph.query(node_properties_query)\n",
        "node_props"
      ],
      "metadata": {
        "id": "xRM_8dUpKpPO",
        "colab": {
          "base_uri": "https://localhost:8080/"
        },
        "outputId": "c9620b2d-2383-4c97-eed0-9320675a7915"
      },
      "execution_count": null,
      "outputs": [
        {
          "output_type": "execute_result",
          "data": {
            "text/plain": [
              "[{'output': {'labels': 'Article',\n",
              "   'properties': ['abstract', 'article_id', 'comments', 'title']}},\n",
              " {'output': {'labels': 'Keyword', 'properties': ['name', 'key_id']}},\n",
              " {'output': {'labels': 'Topic',\n",
              "   'properties': ['cluster', 'description', 'label']}},\n",
              " {'output': {'labels': 'Author',\n",
              "   'properties': ['author_id', 'affiliation', 'first_name', 'last_name']}},\n",
              " {'output': {'labels': 'DOI', 'properties': ['name', 'doi_id']}},\n",
              " {'output': {'labels': 'Categories',\n",
              "   'properties': ['category_id', 'specifications']}},\n",
              " {'output': {'labels': 'Report', 'properties': ['report_id', 'report_no']}},\n",
              " {'output': {'labels': 'UpdateDate', 'properties': ['update_date']}},\n",
              " {'output': {'labels': 'Journal', 'properties': ['name', 'journal_id']}}]"
            ]
          },
          "metadata": {},
          "execution_count": 8
        }
      ]
    },
    {
      "cell_type": "code",
      "source": [
        "# Query to extract relationships list\n",
        "rel_query = \"\"\"\n",
        "CALL apoc.meta.data()\n",
        "YIELD label, other, elementType, type, property\n",
        "WHERE type = \"RELATIONSHIP\" AND elementType = \"node\"\n",
        "RETURN {source: label, relationship: property, target: other} AS output\n",
        "\"\"\"\n",
        "rels = graph.query(rel_query)\n",
        "rels"
      ],
      "metadata": {
        "id": "VKQrRy-CbEsA",
        "colab": {
          "base_uri": "https://localhost:8080/"
        },
        "outputId": "bb39b63b-522e-4d7f-96bf-93ed8ae2f4d2"
      },
      "execution_count": null,
      "outputs": [
        {
          "output_type": "execute_result",
          "data": {
            "text/plain": [
              "[{'output': {'relationship': 'HAS_KEY',\n",
              "   'source': 'Article',\n",
              "   'target': ['Keyword']}},\n",
              " {'output': {'relationship': 'HAS_DOI',\n",
              "   'source': 'Article',\n",
              "   'target': ['DOI']}},\n",
              " {'output': {'relationship': 'HAS_CATEGORY',\n",
              "   'source': 'Article',\n",
              "   'target': ['Categories']}},\n",
              " {'output': {'relationship': 'WRITTEN_BY',\n",
              "   'source': 'Article',\n",
              "   'target': ['Author']}},\n",
              " {'output': {'relationship': 'UPDATED',\n",
              "   'source': 'Article',\n",
              "   'target': ['UpdateDate']}},\n",
              " {'output': {'relationship': 'PUBLISHED_IN',\n",
              "   'source': 'Article',\n",
              "   'target': ['Journal']}},\n",
              " {'output': {'relationship': 'HAS_REPORT',\n",
              "   'source': 'Article',\n",
              "   'target': ['Report']}},\n",
              " {'output': {'relationship': 'HAS_TOPIC',\n",
              "   'source': 'Keyword',\n",
              "   'target': ['Topic']}}]"
            ]
          },
          "metadata": {},
          "execution_count": 10
        }
      ]
    },
    {
      "cell_type": "code",
      "source": [
        "# Find 5 articles that contain algebra in the title and abstract\n",
        "\n",
        "read_query = \"\"\"\n",
        "MATCH (a:Article)\n",
        "WHERE a.abstract CONTAINS 'algebra' AND a.title CONTAINS 'algebra'\n",
        "RETURN a.title as Title, a.abstract AS Abstract\n",
        "LIMIT 5\n",
        "\"\"\"\n",
        "graph.query(read_query)"
      ],
      "metadata": {
        "colab": {
          "base_uri": "https://localhost:8080/"
        },
        "id": "4DDEQuyUotw5",
        "outputId": "48bad901-ee0e-4567-8655-c0d913068b18"
      },
      "execution_count": null,
      "outputs": [
        {
          "output_type": "execute_result",
          "data": {
            "text/plain": [
              "[{'Title': 'The Gervais-Neveu-Felder equation for the Jordanian quasi-Hopf\\n  U_{h;y}(sl(2)) algebra',\n",
              "  'Abstract': '  Using a contraction procedure, we construct a twist operator that satisfies a\\nshifted cocycle condition, and leads to the Jordanian quasi-Hopf U_{h;y}(sl(2))\\nalgebra. The corresponding universal ${\\\\cal R}_{h}(y)$ matrix obeys a\\nGervais-Neveu-Felder equation associated with the U_{h;y}(sl(2)) algebra. For a\\nclass of representations, the dynamical Yang-Baxter equation may be expressed\\nas a compatibility condition for the algebra of the Lax operators.\\n'},\n",
              " {'Title': 'Twist deformations for generalized Heisenberg algebras',\n",
              "  'Abstract': '  Multidimensional Heisenberg algebras, whose creation and annihilation\\noperators are the N-dimensional vectors, can be injected into simple Lie\\nalgebras g. It is demonstrated that the spectrum of their deformations can be\\ninvestigated using chains of extended Jordanian twists applied to U(g). In the\\ncase of U(sl(N)) (for N>5) the two-dimensional Heisenberg subalgebras have nine\\ndeformed costructures connected by four \"internal\" and \"external\" twists\\ncomposing the commutative diagram.\\n'},\n",
              " {'Title': 'Unitary representations of the 2-dimensional Euclidean group in the\\n  Heisenberg algebra',\n",
              "  'Abstract': '  E(2) is studied as the automorphism group of the Heisenberg algebra H. The\\nbasis in the Hilbert space K of functions on H on which the unitary irreducible\\nrepresentations of the group are realized is explicitely constructed. The\\naddition theorem for the Kummer functions is derived.\\n'},\n",
              " {'Title': 'Serre-Swan theorem for non-commutative C$^{*}$-algebras',\n",
              "  'Abstract': '  We generalize the Serre-Swan theorem to non-commutative C$^{*}$-algebras. For\\na Hilbert C$^{*}$-module $X$ over a C$^{*}$-algebra ${\\\\cal A}$, we introduce a\\nhermitian vector bundle $\\\\exx$ associated to $X$. We show that there is a\\nlinear subspace $\\\\Gamma_{X}$ of the space of all holomorphic sections of ${\\\\cal\\nE}_{X}$ and a flat connection $D$ on ${\\\\cal E}_{X}$ with the following\\nproperties: (i) $\\\\Gamma_{X}$ is a Hilbert ${\\\\cal A}$-module with the action of\\n${\\\\cal A}$ defined by $D$, (ii) the C$^{*}$-inner product of $\\\\Gamma_{X}$ is\\ninduced by the hermitian metric of ${\\\\cal E}_{X}$, (iii) ${\\\\cal E}_{X}$ is\\nisomorphic to an associated bundle of an infinite dimensional Hopf bundle, (iv)\\n$\\\\Gamma_{X}$ is isomorphic to $X$.\\n'},\n",
              " {'Title': 'Computation of Cohomology of Lie Superalgebras of Vector Fields',\n",
              "  'Abstract': '  The cohomology of Lie (super)algebras has many important applications in\\nmathematics and physics. It carries most fundamental (\"topological\")\\ninformation about algebra under consideration. At present, because of the need\\nfor very tedious algebraic computation, the explicitly computed cohomology for\\ndifferent classes of Lie (super)algebras is known only in a few cases. That is\\nwhy application of computer algebra methods is important for this problem. We\\ndescribe here an algorithm and its C implementation for computing the\\ncohomology of Lie algebras and superalgebras. The program can proceed\\nfinite-dimensional algebras and infinite-dimensional graded algebras with\\nfinite-dimensional homogeneous components. Among the last algebras Lie algebras\\nand superalgebras of formal vector fields are most important. We present some\\nresults of computation of cohomology for Lie superalgebras of Buttin vector\\nfields and related algebras. These algebras being super-analogs of Poisson and\\nHamiltonian algebras have found many applications to modern supersymmetric\\nmodels of theoretical and mathematical physics.\\n'}]"
            ]
          },
          "metadata": {},
          "execution_count": 17
        }
      ]
    },
    {
      "cell_type": "code",
      "source": [
        "# Basic node retrieval\n",
        "# Fetch 5 journals in the database\n",
        "\n",
        "query = \"\"\"\n",
        "MATCH (j:Journal)\n",
        "RETURN j.name LIMIT 5\n",
        "\"\"\"\n",
        "\n",
        "graph.query(query)"
      ],
      "metadata": {
        "colab": {
          "base_uri": "https://localhost:8080/"
        },
        "id": "C5WjS0HTyvL4",
        "outputId": "83ab9a99-c7ed-49e9-ea72-309fcbb8d03c"
      },
      "execution_count": null,
      "outputs": [
        {
          "output_type": "execute_result",
          "data": {
            "text/plain": [
              "[{'j.name': 'Rev. Mat.Iberoamericana'},\n",
              " {'j.name': 'Finite Fields Appl'},\n",
              " {'j.name': 'J. Geom. Analysis'},\n",
              " {'j.name': 'Comm. Partial Differential Equations'},\n",
              " {'j.name': 'Proyecciones'}]"
            ]
          },
          "metadata": {},
          "execution_count": 18
        }
      ]
    },
    {
      "cell_type": "code",
      "source": [
        "# Find the most published author\n",
        "\n",
        "read_query=\"\"\"\n",
        "MATCH (a:Author)-[]-(p:Article)-[]-(j:Journal)\n",
        "RETURN a.last_name as LastName, a.first_name AS FirstNAme, count(p) as Freq\n",
        "ORDER BY Freq DESC\n",
        "LIMIT 5\n",
        "\"\"\"\n",
        "graph.query(read_query)"
      ],
      "metadata": {
        "colab": {
          "base_uri": "https://localhost:8080/"
        },
        "id": "mZ1fbxP0oF4C",
        "outputId": "f2794076-8a93-4317-eda4-1f46baf02526"
      },
      "execution_count": null,
      "outputs": [
        {
          "output_type": "execute_result",
          "data": {
            "text/plain": [
              "[{'LastName': 'Schick', 'FirstNAme': 'Thomas', 'Freq': 27},\n",
              " {'LastName': 'Bartholdi', 'FirstNAme': 'Laurent', 'Freq': 23},\n",
              " {'LastName': 'Kotschick', 'FirstNAme': 'D.', 'Freq': 20},\n",
              " {'LastName': 'Chakrabarti', 'FirstNAme': 'A.', 'Freq': 18},\n",
              " {'LastName': 'Suciu', 'FirstNAme': 'Alexander I.', 'Freq': 18}]"
            ]
          },
          "metadata": {},
          "execution_count": 48
        }
      ]
    },
    {
      "cell_type": "code",
      "source": [
        "# Node retrieval with property filtering\n",
        "# Fetch articles published after a specific date\n",
        "\n",
        "query = \"\"\"\n",
        "MATCH (a:Article)-[]-(ud:UpdateDate)\n",
        "WHERE date(ud.update_date).year = 2007\n",
        "RETURN a.title, ud.update_date\n",
        "LIMIT 4\n",
        "\"\"\"\n",
        "\n",
        "graph.query(query)"
      ],
      "metadata": {
        "colab": {
          "base_uri": "https://localhost:8080/"
        },
        "id": "TgFxzcdNyrCp",
        "outputId": "f16bb9ac-4396-4e02-a04d-f32e79edc293"
      },
      "execution_count": null,
      "outputs": [
        {
          "output_type": "execute_result",
          "data": {
            "text/plain": [
              "[{'a.title': 'Reconstruction of Gray-scale Images',\n",
              "  'ud.update_date': neo4j.time.Date(2007, 7, 2)},\n",
              " {'a.title': 'Finite-Dimensional Crystals B^{2,s} for Quantum Affine Algebras of type\\n  D_{n}^{(1)}',\n",
              "  'ud.update_date': neo4j.time.Date(2007, 10, 8)},\n",
              " {'a.title': 'On nonparametric maximum likelihood for a class of stochastic inverse\\n  problems',\n",
              "  'ud.update_date': neo4j.time.Date(2007, 10, 8)},\n",
              " {'a.title': 'On the strong consistency of asymptotic M-estimators',\n",
              "  'ud.update_date': neo4j.time.Date(2007, 10, 8)}]"
            ]
          },
          "metadata": {},
          "execution_count": 28
        }
      ]
    },
    {
      "cell_type": "code",
      "source": [
        "# Fetch 10 articles and their authors published in a specific journal\n",
        "\n",
        "query = \"\"\"\n",
        "MATCH (j:Journal {name: \"Commun.Math.Phys\"})<-[:PUBLISHED_IN]-(a:Article)-[:WRITTEN_BY]-(au:Author)\n",
        "RETURN a.title, COLLECT(au.last_name + ', ' + au.first_name) AS authors\n",
        "LIMIT 10\n",
        "\"\"\"\n",
        "graph.query(query)\n"
      ],
      "metadata": {
        "colab": {
          "base_uri": "https://localhost:8080/"
        },
        "id": "aQU11gaF1ynT",
        "outputId": "a7070b17-a81f-4153-9e05-aebdcf30a024"
      },
      "execution_count": null,
      "outputs": [
        {
          "output_type": "execute_result",
          "data": {
            "text/plain": [
              "[{'a.title': 'Hyper-K{\\\\\"a}hler Hierarchies and their twistor theory',\n",
              "  'authors': ['Dunajski, Maciej', 'Mason, Lionel J.']},\n",
              " {'a.title': '$A_{\\\\infty}$-structures on an elliptic curve',\n",
              "  'authors': ['Polishchuk, Alexander']},\n",
              " {'a.title': 'Superselection Theory for Subsystems',\n",
              "  'authors': ['Conti, Roberto', 'Doplicher, Sergio', 'Roberts, John E.']},\n",
              " {'a.title': 'Geometrical Tools for Quantum Euclidean Spaces',\n",
              "  'authors': ['Cerchiai, B. L.', 'Fiore, G.', 'Madore, J.']},\n",
              " {'a.title': 'Classification of Subsystems for Local Nets with Trivial Superselection\\n  Structure',\n",
              "  'authors': ['Conti, Roberto', 'Carpi, Sebastiano']},\n",
              " {'a.title': 'Notes for a Quantum Index Theorem',\n",
              "  'authors': ['Longo, Roberto']},\n",
              " {'a.title': 'A New Cohomology Theory for Orbifold',\n",
              "  'authors': ['Chen, Weimin', 'Ruan, Yongbin']},\n",
              " {'a.title': 'Log mirror symmetry and local mirror symmetry',\n",
              "  'authors': ['Takahashi, Nobuyoshi']},\n",
              " {'a.title': 'Quantum Affine (Super)Algebras $U_q(A_{1}^{(1)})$ and $U_q(C(2)^{(2)})$',\n",
              "  'authors': ['Khoroshkin, S. M.', 'Lukierski, J.', 'Tolstoy, V. N.']},\n",
              " {'a.title': 'Generating Functional in CFT on Riemann Surfaces II: Homological Aspects',\n",
              "  'authors': ['Aldrovandi, Ettore', 'Takhtajan, Leon A.']}]"
            ]
          },
          "metadata": {},
          "execution_count": 35
        }
      ]
    },
    {
      "cell_type": "code",
      "source": [
        "# Fetch all authors who wrote a particular article\n",
        "\n",
        "query = \"\"\"\n",
        "MATCH (a:Author)<-[:WRITTEN_BY]-(art:Article {article_id: 1008})\n",
        "RETURN a.last_name, a.first_name\n",
        "\"\"\"\n",
        "\n",
        "graph.query(query)"
      ],
      "metadata": {
        "colab": {
          "base_uri": "https://localhost:8080/"
        },
        "id": "yvipa5lM1_bf",
        "outputId": "77dcaa4f-41dd-4501-c49d-c02bf48968d3"
      },
      "execution_count": null,
      "outputs": [
        {
          "output_type": "execute_result",
          "data": {
            "text/plain": [
              "[{'a.last_name': 'Dunajski', 'a.first_name': 'Maciej'},\n",
              " {'a.last_name': 'Mason', 'a.first_name': 'Lionel J.'}]"
            ]
          },
          "metadata": {},
          "execution_count": 38
        }
      ]
    },
    {
      "cell_type": "code",
      "source": [
        "# Find the journals in which an author's articles were published\n",
        "\n",
        "query = \"\"\"\n",
        "MATCH path = (a:Author {last_name: \"Warnaar\"})-[]-(p:Article)-[]-(j:Journal)\n",
        "RETURN j.name\n",
        "\"\"\"\n",
        "graph.query(query)"
      ],
      "metadata": {
        "colab": {
          "base_uri": "https://localhost:8080/"
        },
        "id": "1H1iV6oy2K9M",
        "outputId": "f0436c9c-31d2-416b-b4ad-71fc8b45ee4d"
      },
      "execution_count": null,
      "outputs": [
        {
          "output_type": "execute_result",
          "data": {
            "text/plain": [
              "[{'j.name': 'Constructive Approximation'},\n",
              " {'j.name': 'J.Statist.Phys'},\n",
              " {'j.name': 'Discrete Mathematics'},\n",
              " {'j.name': 'Commun. Math. Phys'},\n",
              " {'j.name': ''}]"
            ]
          },
          "metadata": {},
          "execution_count": 42
        }
      ]
    },
    {
      "cell_type": "code",
      "source": [
        "# Relationships with property filtering\n",
        "# Fetch articles written by a specific author and published after a certain date\n",
        "\n",
        "query= \"\"\"\n",
        "MATCH (a:Author {last_name: \"Schick\"})-[]-(art:Article)-[]-(ud:UpdateDate)\n",
        "WHERE ud.update_date > \"2000-01-01\"\n",
        "RETURN art.title, ud.update_date\n",
        "\"\"\"\n",
        "graph.query(query)"
      ],
      "metadata": {
        "colab": {
          "base_uri": "https://localhost:8080/"
        },
        "id": "gxSOjd2l2bp4",
        "outputId": "4310b167-0d1a-408a-f37f-87e0b90107e9"
      },
      "execution_count": null,
      "outputs": [
        {
          "output_type": "execute_result",
          "data": {
            "text/plain": [
              "[{'art.title': \"A K-Theoretic Proof of Boutet de Monvel's Index Theorem for Boundary\\n  Value Problems\",\n",
              "  'ud.update_date': '2007-05-23'},\n",
              " {'art.title': 'Finite group extensions and the Baum-Connes conjecture',\n",
              "  'ud.update_date': '2014-11-11'},\n",
              " {'art.title': 'On a conjecture of Atiyah', 'ud.update_date': '2015-06-26'},\n",
              " {'art.title': 'Integrality of L2-Betti numbers',\n",
              "  'ud.update_date': '2018-11-28'},\n",
              " {'art.title': 'Manifolds with boundary and of bounded geometry',\n",
              "  'ud.update_date': '2018-11-28'},\n",
              " {'art.title': 'Approximating L2-invariants, and the Atiyah conjecture',\n",
              "  'ud.update_date': '2018-11-28'},\n",
              " {'art.title': 'The spectral measure of certain elements of the complex group ring of a\\n  wreath product',\n",
              "  'ud.update_date': '2018-11-28'},\n",
              " {'art.title': 'Approximating L^2-signatures by their compact analogues',\n",
              "  'ud.update_date': '2018-11-28'},\n",
              " {'art.title': 'Approximating Spectral invariants of Harper operators on graphs II',\n",
              "  'ud.update_date': '2018-11-28'},\n",
              " {'art.title': 'The Ore condition, affiliated operators, and the lamplighter group',\n",
              "  'ud.update_date': '2018-11-28'},\n",
              " {'art.title': 'Remarks on a conjecture of Gromov and Lawson',\n",
              "  'ud.update_date': '2018-11-28'},\n",
              " {'art.title': 'Various L2-signatures and a topological L2-signature theorem',\n",
              "  'ud.update_date': '2018-11-28'},\n",
              " {'art.title': 'A counterexample to the (unstable) Gromov-Lawson-Rosenberg conjecture',\n",
              "  'ud.update_date': '2018-11-28'},\n",
              " {'art.title': 'Finite group extensions and the Atiyah conjecture',\n",
              "  'ud.update_date': '2018-11-28'},\n",
              " {'art.title': 'Enlargeability and index theory',\n",
              "  'ud.update_date': '2018-11-28'},\n",
              " {'art.title': 'Bordism, rho-invariants and the Baum-Connes conjecture',\n",
              "  'ud.update_date': '2018-11-28'},\n",
              " {'art.title': 'Inertia and delocalized twisted cohomology',\n",
              "  'ud.update_date': '2018-11-28'},\n",
              " {'art.title': 'Duality for topological abelian group stacks and T-duality',\n",
              "  'ud.update_date': '2018-11-28'},\n",
              " {'art.title': 'On the Equivalence of Geometric and Analytic K-Homology',\n",
              "  'ud.update_date': '2018-11-28'},\n",
              " {'art.title': 'Buildings have finite asymptotic dimension',\n",
              "  'ud.update_date': '2018-11-28'},\n",
              " {'art.title': 'L2-torsion of hyperbolic manifolds',\n",
              "  'ud.update_date': '2018-11-28'},\n",
              " {'art.title': 'L2-index theorem for manifolds with boundary',\n",
              "  'ud.update_date': '2018-11-28'},\n",
              " {'art.title': 'Positive and negative results concerning the Gromov-Lawson-Rosenberg\\n  conjecture',\n",
              "  'ud.update_date': '2018-11-28'},\n",
              " {'art.title': 'The trace on the K-theory of group C*-algebras',\n",
              "  'ud.update_date': '2018-11-28'},\n",
              " {'art.title': \"Real versus complex K-theory using Kasparov's bivariant KK-theory\",\n",
              "  'ud.update_date': '2014-10-01'},\n",
              " {'art.title': 'Sheaf theory for stacks in manifolds and twisted cohomology for\\n  S^1-gerbes',\n",
              "  'ud.update_date': '2014-10-01'},\n",
              " {'art.title': 'On the topology of T-duality', 'ud.update_date': '2010-11-26'},\n",
              " {'art.title': 'The topology of T-duality for T^n-bundles',\n",
              "  'ud.update_date': '2023-06-08'},\n",
              " {'art.title': 'Efficient prediction for linear and nonlinear autoregressive models',\n",
              "  'ud.update_date': '2016-08-14'}]"
            ]
          },
          "metadata": {},
          "execution_count": 50
        }
      ]
    },
    {
      "cell_type": "code",
      "source": [
        "# Multiple paths\n",
        "# Find authors who have written articles for a specific journal\n",
        "\n",
        "query = \"\"\"\n",
        "MATCH (a:Author)-[]-(:Article)-[]-(j:Journal)\n",
        "WHERE j.name CONTAINS \"Comm\"\n",
        "RETURN DISTINCT a.last_name AS Name\n",
        "LIMIT 10\n",
        "\"\"\"\n",
        "graph.query(query)"
      ],
      "metadata": {
        "colab": {
          "base_uri": "https://localhost:8080/"
        },
        "id": "PhL2bgRV2quk",
        "outputId": "86a3a00d-e675-4ff8-8dfc-ac039d23a36b"
      },
      "execution_count": null,
      "outputs": [
        {
          "output_type": "execute_result",
          "data": {
            "text/plain": [
              "[{'Name': 'Gioev'},\n",
              " {'Name': 'Coriasco'},\n",
              " {'Name': 'Schrohe'},\n",
              " {'Name': 'Seiler'},\n",
              " {'Name': 'Barles'},\n",
              " {'Name': 'Ley'},\n",
              " {'Name': 'Mangoubi'},\n",
              " {'Name': 'Dunajski'},\n",
              " {'Name': 'Mason'},\n",
              " {'Name': 'Polishchuk'}]"
            ]
          },
          "metadata": {},
          "execution_count": 66
        }
      ]
    },
    {
      "cell_type": "code",
      "source": [
        "# Combining Aggregations and Paths\n",
        "# Find the journal that has published the most articles:\n",
        "\n",
        "query = \"\"\"\n",
        "    MATCH (j:Journal)-[]-(a:Article)\n",
        "    WHERE j.name <> ''\n",
        "    RETURN j.name AS Journal, COUNT(a) AS NumberArticles\n",
        "    ORDER BY NumberArticles DESC\n",
        "    LIMIT 2\n",
        "    \"\"\"\n",
        "graph.query(query)"
      ],
      "metadata": {
        "colab": {
          "base_uri": "https://localhost:8080/"
        },
        "id": "3OxdjW5R3XZ9",
        "outputId": "3a80dd61-d2ba-4398-ee99-90a94597ca7e"
      },
      "execution_count": null,
      "outputs": [
        {
          "output_type": "execute_result",
          "data": {
            "text/plain": [
              "[{'Journal': 'Algebr. Geom. Topol', 'NumberArticles': 344},\n",
              " {'Journal': 'Geom. Topol', 'NumberArticles': 285}]"
            ]
          },
          "metadata": {},
          "execution_count": 61
        }
      ]
    },
    {
      "cell_type": "code",
      "source": [
        "# Complex Aggregations with Filtering\n",
        "# Find authors who have written more than 5 articles and at\n",
        "# least one of those articles was published in the \"Topology\" journal:\n",
        "\n",
        "query = \"\"\"\n",
        "MATCH (a:Author)<-[:WRITTEN_BY]-(art:Article)\n",
        "WITH a, COUNT(art) AS ArticleCount\n",
        "WHERE ArticleCount > 5\n",
        "MATCH (a)<-[:WRITTEN_BY]-(:Article)-[:PUBLISHED_IN]->(j:Journal)\n",
        "WHERE j.name CONTAINS 'Topology'\n",
        "RETURN a.last_name AS LastName, a.first_name AS FirstName, ArticleCount, j.name AS Journal\n",
        "\"\"\"\n",
        "pd.DataFrame(graph.query(query))"
      ],
      "metadata": {
        "colab": {
          "base_uri": "https://localhost:8080/",
          "height": 645
        },
        "id": "KkNHY0bB3W_D",
        "outputId": "73c102dc-eb67-4ec5-f71a-78529cd44885"
      },
      "execution_count": null,
      "outputs": [
        {
          "output_type": "execute_result",
          "data": {
            "text/plain": [
              "        LastName     FirstName  ArticleCount                        Journal\n",
              "0    Christensen     J. Daniel             7                       Topology\n",
              "1    Christensen     J. Daniel             7                       Topology\n",
              "2          Suciu  Alexander I.            18                       Topology\n",
              "3          Suciu  Alexander I.            18              Topology and Appl\n",
              "4      Kotschick            D.            20                       Topology\n",
              "5         Feehan    Paul M. N.             7  Topology and its Applications\n",
              "6          Meyer          Ralf            13                       Topology\n",
              "7          Meyer          Ralf            13                       Topology\n",
              "8         Tsaban          Boaz            17  Topology and its Applications\n",
              "9         Tsaban          Boaz            17  Topology and its Applications\n",
              "10        Tsaban          Boaz            17  Topology and its Applications\n",
              "11        Tsaban          Boaz            17   Open Problems in Topology II\n",
              "12        Shelah       Saharon            13  Topology and its Applications\n",
              "13          Dahl       Mattias             8                  Topology Appl\n",
              "14        Schick        Thomas             8                       Topology\n",
              "15        Santos     Francisco             7                       Topology\n",
              "16       Roushon         S. K.             7                  Topology Appl\n",
              "17       Roushon         S. K.             7                  Topology Appl\n",
              "18  de Cornulier          Yves            10                    J. Topology"
            ],
            "text/html": [
              "\n",
              "  <div id=\"df-e20137e7-4c28-436e-9818-d472a8c2fb62\" class=\"colab-df-container\">\n",
              "    <div>\n",
              "<style scoped>\n",
              "    .dataframe tbody tr th:only-of-type {\n",
              "        vertical-align: middle;\n",
              "    }\n",
              "\n",
              "    .dataframe tbody tr th {\n",
              "        vertical-align: top;\n",
              "    }\n",
              "\n",
              "    .dataframe thead th {\n",
              "        text-align: right;\n",
              "    }\n",
              "</style>\n",
              "<table border=\"1\" class=\"dataframe\">\n",
              "  <thead>\n",
              "    <tr style=\"text-align: right;\">\n",
              "      <th></th>\n",
              "      <th>LastName</th>\n",
              "      <th>FirstName</th>\n",
              "      <th>ArticleCount</th>\n",
              "      <th>Journal</th>\n",
              "    </tr>\n",
              "  </thead>\n",
              "  <tbody>\n",
              "    <tr>\n",
              "      <th>0</th>\n",
              "      <td>Christensen</td>\n",
              "      <td>J. Daniel</td>\n",
              "      <td>7</td>\n",
              "      <td>Topology</td>\n",
              "    </tr>\n",
              "    <tr>\n",
              "      <th>1</th>\n",
              "      <td>Christensen</td>\n",
              "      <td>J. Daniel</td>\n",
              "      <td>7</td>\n",
              "      <td>Topology</td>\n",
              "    </tr>\n",
              "    <tr>\n",
              "      <th>2</th>\n",
              "      <td>Suciu</td>\n",
              "      <td>Alexander I.</td>\n",
              "      <td>18</td>\n",
              "      <td>Topology</td>\n",
              "    </tr>\n",
              "    <tr>\n",
              "      <th>3</th>\n",
              "      <td>Suciu</td>\n",
              "      <td>Alexander I.</td>\n",
              "      <td>18</td>\n",
              "      <td>Topology and Appl</td>\n",
              "    </tr>\n",
              "    <tr>\n",
              "      <th>4</th>\n",
              "      <td>Kotschick</td>\n",
              "      <td>D.</td>\n",
              "      <td>20</td>\n",
              "      <td>Topology</td>\n",
              "    </tr>\n",
              "    <tr>\n",
              "      <th>5</th>\n",
              "      <td>Feehan</td>\n",
              "      <td>Paul M. N.</td>\n",
              "      <td>7</td>\n",
              "      <td>Topology and its Applications</td>\n",
              "    </tr>\n",
              "    <tr>\n",
              "      <th>6</th>\n",
              "      <td>Meyer</td>\n",
              "      <td>Ralf</td>\n",
              "      <td>13</td>\n",
              "      <td>Topology</td>\n",
              "    </tr>\n",
              "    <tr>\n",
              "      <th>7</th>\n",
              "      <td>Meyer</td>\n",
              "      <td>Ralf</td>\n",
              "      <td>13</td>\n",
              "      <td>Topology</td>\n",
              "    </tr>\n",
              "    <tr>\n",
              "      <th>8</th>\n",
              "      <td>Tsaban</td>\n",
              "      <td>Boaz</td>\n",
              "      <td>17</td>\n",
              "      <td>Topology and its Applications</td>\n",
              "    </tr>\n",
              "    <tr>\n",
              "      <th>9</th>\n",
              "      <td>Tsaban</td>\n",
              "      <td>Boaz</td>\n",
              "      <td>17</td>\n",
              "      <td>Topology and its Applications</td>\n",
              "    </tr>\n",
              "    <tr>\n",
              "      <th>10</th>\n",
              "      <td>Tsaban</td>\n",
              "      <td>Boaz</td>\n",
              "      <td>17</td>\n",
              "      <td>Topology and its Applications</td>\n",
              "    </tr>\n",
              "    <tr>\n",
              "      <th>11</th>\n",
              "      <td>Tsaban</td>\n",
              "      <td>Boaz</td>\n",
              "      <td>17</td>\n",
              "      <td>Open Problems in Topology II</td>\n",
              "    </tr>\n",
              "    <tr>\n",
              "      <th>12</th>\n",
              "      <td>Shelah</td>\n",
              "      <td>Saharon</td>\n",
              "      <td>13</td>\n",
              "      <td>Topology and its Applications</td>\n",
              "    </tr>\n",
              "    <tr>\n",
              "      <th>13</th>\n",
              "      <td>Dahl</td>\n",
              "      <td>Mattias</td>\n",
              "      <td>8</td>\n",
              "      <td>Topology Appl</td>\n",
              "    </tr>\n",
              "    <tr>\n",
              "      <th>14</th>\n",
              "      <td>Schick</td>\n",
              "      <td>Thomas</td>\n",
              "      <td>8</td>\n",
              "      <td>Topology</td>\n",
              "    </tr>\n",
              "    <tr>\n",
              "      <th>15</th>\n",
              "      <td>Santos</td>\n",
              "      <td>Francisco</td>\n",
              "      <td>7</td>\n",
              "      <td>Topology</td>\n",
              "    </tr>\n",
              "    <tr>\n",
              "      <th>16</th>\n",
              "      <td>Roushon</td>\n",
              "      <td>S. K.</td>\n",
              "      <td>7</td>\n",
              "      <td>Topology Appl</td>\n",
              "    </tr>\n",
              "    <tr>\n",
              "      <th>17</th>\n",
              "      <td>Roushon</td>\n",
              "      <td>S. K.</td>\n",
              "      <td>7</td>\n",
              "      <td>Topology Appl</td>\n",
              "    </tr>\n",
              "    <tr>\n",
              "      <th>18</th>\n",
              "      <td>de Cornulier</td>\n",
              "      <td>Yves</td>\n",
              "      <td>10</td>\n",
              "      <td>J. Topology</td>\n",
              "    </tr>\n",
              "  </tbody>\n",
              "</table>\n",
              "</div>\n",
              "    <div class=\"colab-df-buttons\">\n",
              "\n",
              "  <div class=\"colab-df-container\">\n",
              "    <button class=\"colab-df-convert\" onclick=\"convertToInteractive('df-e20137e7-4c28-436e-9818-d472a8c2fb62')\"\n",
              "            title=\"Convert this dataframe to an interactive table.\"\n",
              "            style=\"display:none;\">\n",
              "\n",
              "  <svg xmlns=\"http://www.w3.org/2000/svg\" height=\"24px\" viewBox=\"0 -960 960 960\">\n",
              "    <path d=\"M120-120v-720h720v720H120Zm60-500h600v-160H180v160Zm220 220h160v-160H400v160Zm0 220h160v-160H400v160ZM180-400h160v-160H180v160Zm440 0h160v-160H620v160ZM180-180h160v-160H180v160Zm440 0h160v-160H620v160Z\"/>\n",
              "  </svg>\n",
              "    </button>\n",
              "\n",
              "  <style>\n",
              "    .colab-df-container {\n",
              "      display:flex;\n",
              "      gap: 12px;\n",
              "    }\n",
              "\n",
              "    .colab-df-convert {\n",
              "      background-color: #E8F0FE;\n",
              "      border: none;\n",
              "      border-radius: 50%;\n",
              "      cursor: pointer;\n",
              "      display: none;\n",
              "      fill: #1967D2;\n",
              "      height: 32px;\n",
              "      padding: 0 0 0 0;\n",
              "      width: 32px;\n",
              "    }\n",
              "\n",
              "    .colab-df-convert:hover {\n",
              "      background-color: #E2EBFA;\n",
              "      box-shadow: 0px 1px 2px rgba(60, 64, 67, 0.3), 0px 1px 3px 1px rgba(60, 64, 67, 0.15);\n",
              "      fill: #174EA6;\n",
              "    }\n",
              "\n",
              "    .colab-df-buttons div {\n",
              "      margin-bottom: 4px;\n",
              "    }\n",
              "\n",
              "    [theme=dark] .colab-df-convert {\n",
              "      background-color: #3B4455;\n",
              "      fill: #D2E3FC;\n",
              "    }\n",
              "\n",
              "    [theme=dark] .colab-df-convert:hover {\n",
              "      background-color: #434B5C;\n",
              "      box-shadow: 0px 1px 3px 1px rgba(0, 0, 0, 0.15);\n",
              "      filter: drop-shadow(0px 1px 2px rgba(0, 0, 0, 0.3));\n",
              "      fill: #FFFFFF;\n",
              "    }\n",
              "  </style>\n",
              "\n",
              "    <script>\n",
              "      const buttonEl =\n",
              "        document.querySelector('#df-e20137e7-4c28-436e-9818-d472a8c2fb62 button.colab-df-convert');\n",
              "      buttonEl.style.display =\n",
              "        google.colab.kernel.accessAllowed ? 'block' : 'none';\n",
              "\n",
              "      async function convertToInteractive(key) {\n",
              "        const element = document.querySelector('#df-e20137e7-4c28-436e-9818-d472a8c2fb62');\n",
              "        const dataTable =\n",
              "          await google.colab.kernel.invokeFunction('convertToInteractive',\n",
              "                                                    [key], {});\n",
              "        if (!dataTable) return;\n",
              "\n",
              "        const docLinkHtml = 'Like what you see? Visit the ' +\n",
              "          '<a target=\"_blank\" href=https://colab.research.google.com/notebooks/data_table.ipynb>data table notebook</a>'\n",
              "          + ' to learn more about interactive tables.';\n",
              "        element.innerHTML = '';\n",
              "        dataTable['output_type'] = 'display_data';\n",
              "        await google.colab.output.renderOutput(dataTable, element);\n",
              "        const docLink = document.createElement('div');\n",
              "        docLink.innerHTML = docLinkHtml;\n",
              "        element.appendChild(docLink);\n",
              "      }\n",
              "    </script>\n",
              "  </div>\n",
              "\n",
              "\n",
              "<div id=\"df-c04391fe-4705-4b70-a88c-a1268d1a0b07\">\n",
              "  <button class=\"colab-df-quickchart\" onclick=\"quickchart('df-c04391fe-4705-4b70-a88c-a1268d1a0b07')\"\n",
              "            title=\"Suggest charts\"\n",
              "            style=\"display:none;\">\n",
              "\n",
              "<svg xmlns=\"http://www.w3.org/2000/svg\" height=\"24px\"viewBox=\"0 0 24 24\"\n",
              "     width=\"24px\">\n",
              "    <g>\n",
              "        <path d=\"M19 3H5c-1.1 0-2 .9-2 2v14c0 1.1.9 2 2 2h14c1.1 0 2-.9 2-2V5c0-1.1-.9-2-2-2zM9 17H7v-7h2v7zm4 0h-2V7h2v10zm4 0h-2v-4h2v4z\"/>\n",
              "    </g>\n",
              "</svg>\n",
              "  </button>\n",
              "\n",
              "<style>\n",
              "  .colab-df-quickchart {\n",
              "      --bg-color: #E8F0FE;\n",
              "      --fill-color: #1967D2;\n",
              "      --hover-bg-color: #E2EBFA;\n",
              "      --hover-fill-color: #174EA6;\n",
              "      --disabled-fill-color: #AAA;\n",
              "      --disabled-bg-color: #DDD;\n",
              "  }\n",
              "\n",
              "  [theme=dark] .colab-df-quickchart {\n",
              "      --bg-color: #3B4455;\n",
              "      --fill-color: #D2E3FC;\n",
              "      --hover-bg-color: #434B5C;\n",
              "      --hover-fill-color: #FFFFFF;\n",
              "      --disabled-bg-color: #3B4455;\n",
              "      --disabled-fill-color: #666;\n",
              "  }\n",
              "\n",
              "  .colab-df-quickchart {\n",
              "    background-color: var(--bg-color);\n",
              "    border: none;\n",
              "    border-radius: 50%;\n",
              "    cursor: pointer;\n",
              "    display: none;\n",
              "    fill: var(--fill-color);\n",
              "    height: 32px;\n",
              "    padding: 0;\n",
              "    width: 32px;\n",
              "  }\n",
              "\n",
              "  .colab-df-quickchart:hover {\n",
              "    background-color: var(--hover-bg-color);\n",
              "    box-shadow: 0 1px 2px rgba(60, 64, 67, 0.3), 0 1px 3px 1px rgba(60, 64, 67, 0.15);\n",
              "    fill: var(--button-hover-fill-color);\n",
              "  }\n",
              "\n",
              "  .colab-df-quickchart-complete:disabled,\n",
              "  .colab-df-quickchart-complete:disabled:hover {\n",
              "    background-color: var(--disabled-bg-color);\n",
              "    fill: var(--disabled-fill-color);\n",
              "    box-shadow: none;\n",
              "  }\n",
              "\n",
              "  .colab-df-spinner {\n",
              "    border: 2px solid var(--fill-color);\n",
              "    border-color: transparent;\n",
              "    border-bottom-color: var(--fill-color);\n",
              "    animation:\n",
              "      spin 1s steps(1) infinite;\n",
              "  }\n",
              "\n",
              "  @keyframes spin {\n",
              "    0% {\n",
              "      border-color: transparent;\n",
              "      border-bottom-color: var(--fill-color);\n",
              "      border-left-color: var(--fill-color);\n",
              "    }\n",
              "    20% {\n",
              "      border-color: transparent;\n",
              "      border-left-color: var(--fill-color);\n",
              "      border-top-color: var(--fill-color);\n",
              "    }\n",
              "    30% {\n",
              "      border-color: transparent;\n",
              "      border-left-color: var(--fill-color);\n",
              "      border-top-color: var(--fill-color);\n",
              "      border-right-color: var(--fill-color);\n",
              "    }\n",
              "    40% {\n",
              "      border-color: transparent;\n",
              "      border-right-color: var(--fill-color);\n",
              "      border-top-color: var(--fill-color);\n",
              "    }\n",
              "    60% {\n",
              "      border-color: transparent;\n",
              "      border-right-color: var(--fill-color);\n",
              "    }\n",
              "    80% {\n",
              "      border-color: transparent;\n",
              "      border-right-color: var(--fill-color);\n",
              "      border-bottom-color: var(--fill-color);\n",
              "    }\n",
              "    90% {\n",
              "      border-color: transparent;\n",
              "      border-bottom-color: var(--fill-color);\n",
              "    }\n",
              "  }\n",
              "</style>\n",
              "\n",
              "  <script>\n",
              "    async function quickchart(key) {\n",
              "      const quickchartButtonEl =\n",
              "        document.querySelector('#' + key + ' button');\n",
              "      quickchartButtonEl.disabled = true;  // To prevent multiple clicks.\n",
              "      quickchartButtonEl.classList.add('colab-df-spinner');\n",
              "      try {\n",
              "        const charts = await google.colab.kernel.invokeFunction(\n",
              "            'suggestCharts', [key], {});\n",
              "      } catch (error) {\n",
              "        console.error('Error during call to suggestCharts:', error);\n",
              "      }\n",
              "      quickchartButtonEl.classList.remove('colab-df-spinner');\n",
              "      quickchartButtonEl.classList.add('colab-df-quickchart-complete');\n",
              "    }\n",
              "    (() => {\n",
              "      let quickchartButtonEl =\n",
              "        document.querySelector('#df-c04391fe-4705-4b70-a88c-a1268d1a0b07 button');\n",
              "      quickchartButtonEl.style.display =\n",
              "        google.colab.kernel.accessAllowed ? 'block' : 'none';\n",
              "    })();\n",
              "  </script>\n",
              "</div>\n",
              "\n",
              "    </div>\n",
              "  </div>\n"
            ]
          },
          "metadata": {},
          "execution_count": 67
        }
      ]
    },
    {
      "cell_type": "code",
      "source": [],
      "metadata": {
        "id": "5PlCWOE5D0uz"
      },
      "execution_count": null,
      "outputs": []
    }
  ]
}